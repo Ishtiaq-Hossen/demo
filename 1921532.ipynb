{
  "nbformat": 4,
  "nbformat_minor": 0,
  "metadata": {
    "colab": {
      "name": "1921532.ipynb",
      "provenance": [],
      "collapsed_sections": []
    },
    "kernelspec": {
      "name": "python3",
      "display_name": "Python 3"
    },
    "language_info": {
      "name": "python"
    }
  },
  "cells": [
    {
      "cell_type": "markdown",
      "metadata": {
        "id": "qWIt_Ho_skn1"
      },
      "source": [
        "Write a console program with a main function that prompts the user to type an integer and computes the sum of the digits of that integer. You may assume that the user types a non-negative integer. Match the following output format:\n",
        "Type an integer: 827104\n",
        "Digit sum is 22\n"
      ]
    },
    {
      "cell_type": "code",
      "metadata": {
        "colab": {
          "base_uri": "https://localhost:8080/"
        },
        "id": "UG5GOEfgsmXq",
        "outputId": "e11866eb-ce02-489a-b901-99e38621a48a"
      },
      "source": [
        "%%writefile q1.cpp\n",
        "#include<iostream>\n",
        "using namespace std;\n",
        "int main()\n",
        "{\n",
        "    int a,sum=0;\n",
        "    //----taking input---\n",
        "    cout<<\"Type an interger: \\n\";\n",
        "    //cin>>a;\n",
        "    a=827104;\n",
        "    while(a!=0){\n",
        "        int temp=a%10; //temp variable for extracting the last number\n",
        "        a=a/10; // modifying the number\n",
        "        sum+=temp; \n",
        "    }\n",
        "    //----output---\n",
        "    cout<<\"Digit sum is \"<<sum<<endl;\n",
        "    return 0;\n",
        "}"
      ],
      "execution_count": 8,
      "outputs": [
        {
          "output_type": "stream",
          "name": "stdout",
          "text": [
            "Overwriting q1.cpp\n"
          ]
        }
      ]
    },
    {
      "cell_type": "code",
      "metadata": {
        "colab": {
          "base_uri": "https://localhost:8080/"
        },
        "id": "fhoj6OFDs93K",
        "outputId": "fe5b48a0-b7bd-43cf-d3fb-0b0be733b7b1"
      },
      "source": [
        "%%bash \n",
        "g++ q1.cpp -o q1\n",
        "./q1"
      ],
      "execution_count": 9,
      "outputs": [
        {
          "output_type": "stream",
          "name": "stdout",
          "text": [
            "Type an interger: \n",
            "Digit sum is 22\n"
          ]
        }
      ]
    },
    {
      "cell_type": "markdown",
      "metadata": {
        "id": "QV-2CmLCssdC"
      },
      "source": [
        "Write a function named fibonacci that displays all the numbers in the Fibonacci Sequence up to a given max, starting with 0. The Italian mathematician Leonardo Fibonacci devised the Fibonacci sequence as a way to model the growth of a population of rabbits. The first two terms in the sequence are 0 and 1, and every subsequent term is a sum of the previous two terms. (The Fibonacci sequence has numerous applications in computer science and shows up in surprising places. It's used to compute logarithms, index and retrieve data, and as a building block in some route-planning algorithms.) Output from the example call of fibonacci(10000):\n",
        "Fibonacci sequence up to 10000:\n",
        "0\n",
        "1\n",
        "1\n",
        "2\n",
        "3\n",
        "5\n",
        "8\n",
        "13\n",
        "21\n",
        "34\n",
        "55\n",
        "89\n",
        "144\n",
        "233\n",
        "377\n",
        "610\n",
        "987\n",
        "1597\n",
        "2584\n",
        "4181\n",
        "6765\n"
      ]
    },
    {
      "cell_type": "code",
      "metadata": {
        "colab": {
          "base_uri": "https://localhost:8080/"
        },
        "id": "Y2Slx06UstjM",
        "outputId": "247a24c1-fc9b-46b0-ac3b-8fa49cab402c"
      },
      "source": [
        "%%writefile q2.cpp\n",
        "#include<iostream>\n",
        "using namespace std;\n",
        "int main()\n",
        "{\n",
        "    int fib1=0,fib2=1,temp=0,max;\n",
        "    //cin>>number;\n",
        "    max=10000;\n",
        "    cout<<\"Fibonacci sequence up to \"<<max<<\": \";\n",
        "    while(temp<max){\n",
        "        cout<<temp<<\" \";\n",
        "        fib1=fib2;\n",
        "        fib2=temp;\n",
        "        temp=fib1+fib2;\n",
        "    }        \n",
        "    \n",
        "    return 0;\n",
        "}"
      ],
      "execution_count": 10,
      "outputs": [
        {
          "output_type": "stream",
          "name": "stdout",
          "text": [
            "Overwriting q2.cpp\n"
          ]
        }
      ]
    },
    {
      "cell_type": "code",
      "metadata": {
        "colab": {
          "base_uri": "https://localhost:8080/"
        },
        "id": "GY5eAX8LtjVy",
        "outputId": "cbdb6df6-675f-458b-9b3b-50cef9907c54"
      },
      "source": [
        "%%bash\n",
        " g++ q2.cpp -o q2\n",
        "./q2"
      ],
      "execution_count": 11,
      "outputs": [
        {
          "output_type": "stream",
          "name": "stdout",
          "text": [
            "Fibonacci sequence up to 10000: 0 1 1 2 3 5 8 13 21 34 55 89 144 233 377 610 987 1597 2584 4181 6765 "
          ]
        }
      ]
    },
    {
      "cell_type": "markdown",
      "metadata": {
        "id": "UtOhbSfQsuyK"
      },
      "source": [
        "Write nested for loops to produce the following output:\n",
        "....1\n",
        "...2.\n",
        "..3..\n",
        ".4...\n",
        "5....\n"
      ]
    },
    {
      "cell_type": "code",
      "metadata": {
        "colab": {
          "base_uri": "https://localhost:8080/"
        },
        "id": "Zm2Rc7k7s5yo",
        "outputId": "da0c481c-0806-4090-db67-60e7b5cfa4f1"
      },
      "source": [
        "%%writefile q3.cpp\n",
        "#include<iostream>\n",
        "using namespace std;\n",
        "int main()\n",
        "{\n",
        "    for(int i=1;i<=5;i++){\n",
        "        for(int j=5;j>=1;j--){\n",
        "            if(j==i){\n",
        "                cout<<i;\n",
        "            }\n",
        "            else {\n",
        "                cout<<\".\";\n",
        "            }\n",
        "        }\n",
        "        cout<<\" \";\n",
        "    }\n",
        "    return 0;\n",
        "}"
      ],
      "execution_count": 12,
      "outputs": [
        {
          "output_type": "stream",
          "name": "stdout",
          "text": [
            "Overwriting q3.cpp\n"
          ]
        }
      ]
    },
    {
      "cell_type": "code",
      "metadata": {
        "colab": {
          "base_uri": "https://localhost:8080/"
        },
        "id": "d1qRnYaGtcyz",
        "outputId": "9ceb7417-3d98-42e0-be71-592e359195d8"
      },
      "source": [
        "%%bash \n",
        "g++ q3.cpp -o q3\n",
        "./q3"
      ],
      "execution_count": 13,
      "outputs": [
        {
          "output_type": "stream",
          "name": "stdout",
          "text": [
            "....1 ...2. ..3.. .4... 5.... "
          ]
        }
      ]
    },
    {
      "cell_type": "code",
      "metadata": {
        "id": "eA6a8-Pptve-"
      },
      "source": [
        ""
      ],
      "execution_count": null,
      "outputs": []
    }
  ]
}